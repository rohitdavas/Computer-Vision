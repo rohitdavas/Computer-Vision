{
 "cells": [
  {
   "cell_type": "code",
   "execution_count": 1,
   "metadata": {
    "ExecuteTime": {
     "end_time": "2020-04-29T08:19:02.559838Z",
     "start_time": "2020-04-29T08:19:02.535128Z"
    },
    "code_folding": [
     7
    ]
   },
   "outputs": [],
   "source": [
    "Image = \"/mnt/Study_Storage/Documents/Datasets/Images/standard_test_images/lena_gray_256.tif\" #gray\n",
    "\n",
    "import cv2 \n",
    "import skimage  \n",
    "import numpy as np \n",
    "\n",
    "\n",
    "def show(img):\n",
    "    cv2.imshow(\"image\", img)\n",
    "    cv2.waitKey(0)\n",
    "    cv2.destroyAllWindows()"
   ]
  },
  {
   "cell_type": "code",
   "execution_count": 4,
   "metadata": {
    "ExecuteTime": {
     "end_time": "2020-04-29T08:19:58.121505Z",
     "start_time": "2020-04-29T08:19:56.714649Z"
    }
   },
   "outputs": [],
   "source": [
    "img = cv2.imread(Image, 0)\n",
    "show(img)"
   ]
  },
  {
   "cell_type": "code",
   "execution_count": 5,
   "metadata": {
    "ExecuteTime": {
     "end_time": "2020-04-29T08:20:04.042361Z",
     "start_time": "2020-04-29T08:19:59.640915Z"
    }
   },
   "outputs": [],
   "source": [
    "filter_x = [[-1,0,1],\n",
    "            [-1,0,1],\n",
    "            [-1,0,1]]\n",
    "\n",
    "filter_x = np.array(filter_x)/3\n",
    "\n",
    "der_x = skimage.filters.edges.convolve(img, weights= filter_x)\n",
    "show(der_x)\n",
    "\n",
    "filter_y = [[-1,-1,-1],\n",
    "            [0,0,0],\n",
    "            [1,1,1]]\n",
    "\n",
    "filter_y =  np.array(filter_y)/3\n",
    "\n",
    "der_y = skimage.filters.edges.convolve(img, weights=filter_y)\n",
    "show(der_y)"
   ]
  },
  {
   "cell_type": "code",
   "execution_count": 27,
   "metadata": {
    "ExecuteTime": {
     "end_time": "2020-04-29T07:55:14.622047Z",
     "start_time": "2020-04-29T07:55:04.954925Z"
    }
   },
   "outputs": [],
   "source": [
    "\n",
    "filter_shift = np.array([[0,0,0],\n",
    "                         [0,0,1],\n",
    "                         [0,0,0]])\n",
    "\n",
    "show(skimage.filters.edges.convolve(img, weights= filter_shift, mode = \"constant\"))"
   ]
  },
  {
   "cell_type": "code",
   "execution_count": 28,
   "metadata": {
    "ExecuteTime": {
     "end_time": "2020-04-29T07:56:29.061712Z",
     "start_time": "2020-04-29T07:56:25.864177Z"
    }
   },
   "outputs": [],
   "source": [
    "filter_mean = (1/9)*np.array([[1,1,1],\n",
    "                              [1,1,1],\n",
    "                              [1,1,1]])\n",
    "\n",
    "show(skimage.filters.edges.convolve(img, filter_mean))"
   ]
  },
  {
   "cell_type": "code",
   "execution_count": 30,
   "metadata": {
    "ExecuteTime": {
     "end_time": "2020-04-29T07:58:01.953580Z",
     "start_time": "2020-04-29T07:57:59.057782Z"
    }
   },
   "outputs": [],
   "source": [
    "show(skimage.filters.gaussian(img, sigma= 2))"
   ]
  },
  {
   "cell_type": "code",
   "execution_count": 7,
   "metadata": {
    "ExecuteTime": {
     "end_time": "2020-04-29T08:20:45.678143Z",
     "start_time": "2020-04-29T08:20:41.976732Z"
    }
   },
   "outputs": [],
   "source": [
    "show(skimage.filters.prewitt(img))"
   ]
  },
  {
   "cell_type": "code",
   "execution_count": 11,
   "metadata": {
    "ExecuteTime": {
     "end_time": "2020-04-29T08:23:59.995557Z",
     "start_time": "2020-04-29T08:23:55.466929Z"
    }
   },
   "outputs": [],
   "source": [
    "from skimage import data\n",
    "camera = data.camera()\n",
    "show(camera)\n",
    "\n",
    "from skimage import filters\n",
    "edges = filters.prewitt(camera)\n",
    "show(edges)"
   ]
  },
  {
   "cell_type": "code",
   "execution_count": 13,
   "metadata": {
    "ExecuteTime": {
     "end_time": "2020-04-29T08:26:09.814348Z",
     "start_time": "2020-04-29T08:26:06.120251Z"
    }
   },
   "outputs": [],
   "source": [
    "show(filters.median(img))"
   ]
  },
  {
   "cell_type": "code",
   "execution_count": 14,
   "metadata": {
    "ExecuteTime": {
     "end_time": "2020-04-29T08:27:37.403220Z",
     "start_time": "2020-04-29T08:27:35.406039Z"
    }
   },
   "outputs": [],
   "source": [
    "show(filters.edges.laplace(image=img))"
   ]
  },
  {
   "cell_type": "code",
   "execution_count": 15,
   "metadata": {
    "ExecuteTime": {
     "end_time": "2020-04-29T08:32:45.544122Z",
     "start_time": "2020-04-29T08:32:39.281357Z"
    }
   },
   "outputs": [],
   "source": [
    "\"\"\" sharpening filter\"\"\"\n",
    "\n",
    "filter1 = [[0,0,0],\n",
    "           [0,2,0],\n",
    "           [0,0,0]]\n",
    "\n",
    "filter1 = np.array(filter1)\n",
    "filter2 = (1/9)*np.ones(shape = [3,3])\n",
    "\n",
    "img1 = filters.edges.convolve(img, weights= filter1)\n",
    "img2 = filters.edges.convolve(img, weights= filter2)\n",
    "show(img1-img2)"
   ]
  },
  {
   "cell_type": "code",
   "execution_count": null,
   "metadata": {},
   "outputs": [],
   "source": []
  }
 ],
 "metadata": {
  "hide_input": false,
  "kernelspec": {
   "display_name": "Python 3",
   "language": "python",
   "name": "python3"
  },
  "language_info": {
   "codemirror_mode": {
    "name": "ipython",
    "version": 3
   },
   "file_extension": ".py",
   "mimetype": "text/x-python",
   "name": "python",
   "nbconvert_exporter": "python",
   "pygments_lexer": "ipython3",
   "version": "3.7.7"
  },
  "toc": {
   "base_numbering": 1,
   "nav_menu": {},
   "number_sections": true,
   "sideBar": true,
   "skip_h1_title": false,
   "title_cell": "Table of Contents",
   "title_sidebar": "Contents",
   "toc_cell": false,
   "toc_position": {},
   "toc_section_display": true,
   "toc_window_display": false
  },
  "varInspector": {
   "cols": {
    "lenName": 16,
    "lenType": 16,
    "lenVar": 40
   },
   "kernels_config": {
    "python": {
     "delete_cmd_postfix": "",
     "delete_cmd_prefix": "del ",
     "library": "var_list.py",
     "varRefreshCmd": "print(var_dic_list())"
    },
    "r": {
     "delete_cmd_postfix": ") ",
     "delete_cmd_prefix": "rm(",
     "library": "var_list.r",
     "varRefreshCmd": "cat(var_dic_list()) "
    }
   },
   "types_to_exclude": [
    "module",
    "function",
    "builtin_function_or_method",
    "instance",
    "_Feature"
   ],
   "window_display": false
  }
 },
 "nbformat": 4,
 "nbformat_minor": 4
}
